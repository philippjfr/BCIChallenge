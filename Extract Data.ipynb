{
 "metadata": {
  "name": "",
  "signature": "sha256:513ce747e5a4a70d68c055ac00af2ed0a49abc520ea3e86bbb64c7459cb1bf06"
 },
 "nbformat": 3,
 "nbformat_minor": 0,
 "worksheets": [
  {
   "cells": [
    {
     "cell_type": "code",
     "collapsed": false,
     "input": [
      "import glob, pickle\n",
      "import numpy as np\n",
      "import pandas\n",
      "\n",
      "import holoviews\n",
      "from holoviews import ViewMap\n",
      "from holoviews.interface.seaborn import DFrame\n",
      "from holoviews.ipython.widgets import ProgressBar\n",
      "\n",
      "from matplotlib import pyplot as plt\n",
      "%matplotlib inline"
     ],
     "language": "python",
     "metadata": {},
     "outputs": []
    },
    {
     "cell_type": "code",
     "collapsed": false,
     "input": [
      "prediction_dict = {}\n",
      "train_labels = pandas.read_csv('TrainLabels.csv')\n",
      "for label, prediction in zip(train_labels.IdFeedBack, train_labels.Prediction):\n",
      "    subject = int(label[1:3])\n",
      "    session = int(label[8:10])\n",
      "    event = int(label[-3:])\n",
      "    prediction_dict[(subject, session, event)] = prediction"
     ],
     "language": "python",
     "metadata": {},
     "outputs": []
    },
    {
     "cell_type": "code",
     "collapsed": false,
     "input": [
      "session_files = glob.glob('train/*.csv')\n",
      "event_map = holoviews.ViewMap(dimensions=['Subject', 'Session', 'FBEvent', 'Classification'])\n",
      "times = np.linspace(0.0,0.5,101)\n",
      "progress = ProgressBar()\n",
      "for sidx, session_file in enumerate(session_files):\n",
      "    subject = int(session_file[12:14])\n",
      "    session = int(session_file[19:21])\n",
      "    session_df = pandas.read_csv(session_file)\n",
      "    session_times = session_df['Time']\n",
      "    feedback_times = session_df[session_df.FeedBackEvent == 1].Time\n",
      "    for tidx, time in enumerate(feedback_times):\n",
      "        event_slice = session_df[(time <= session_times) & (session_times <= time+0.5)]\n",
      "        event_slice.Time = times[:len(event_slice+1)]\n",
      "        classification = prediction_dict[(subject, session, tidx+1)]\n",
      "        event_map[(subject, session, tidx+1, classification)] = DFrame(event_slice)\n",
      "    progress(float(sidx)+1/len(session_files)*100)"
     ],
     "language": "python",
     "metadata": {},
     "outputs": []
    },
    {
     "cell_type": "code",
     "collapsed": false,
     "input": [
      "session_files = glob.glob('test/*.csv')\n",
      "test_map = holoviews.ViewMap(dimensions=['Subject', 'Session', 'FBEvent'])\n",
      "times = np.linspace(0.0,0.5,101)\n",
      "progress = ProgressBar()\n",
      "for sidx, session_file in enumerate(session_files):\n",
      "    subject = int(session_file[11:13])\n",
      "    session = int(session_file[18:20])\n",
      "    session_df = pandas.read_csv(session_file)\n",
      "    session_times = session_df['Time']\n",
      "    feedback_times = session_df[session_df.FeedBackEvent == 1].Time\n",
      "    for tidx, time in enumerate(feedback_times):\n",
      "        event_slice = session_df[(time <= session_times) & (session_times <= time+0.5)]\n",
      "        event_slice.Time = times[:len(event_slice+1)]\n",
      "        test_map[(subject, session, tidx+1)] = DFrame(event_slice)\n",
      "    progress(float(sidx)+1/len(session_files)*100)"
     ],
     "language": "python",
     "metadata": {},
     "outputs": []
    },
    {
     "cell_type": "code",
     "collapsed": false,
     "input": [
      "with open('train_map.pkl', 'wb') as f:\n",
      "    pickle.dump(event_map, f)"
     ],
     "language": "python",
     "metadata": {},
     "outputs": []
    },
    {
     "cell_type": "code",
     "collapsed": false,
     "input": [
      "with open('test_map.pkl', 'wb') as f:\n",
      "    pickle.dump(test_map, f)"
     ],
     "language": "python",
     "metadata": {},
     "outputs": []
    }
   ],
   "metadata": {}
  }
 ]
}