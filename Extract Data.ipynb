{
 "metadata": {
  "name": "",
  "signature": "sha256:0786399a2dbb9624416f35256b41a26f2c8c863c4489122f0c9438bd8ed1e496"
 },
 "nbformat": 3,
 "nbformat_minor": 0,
 "worksheets": [
  {
   "cells": [
    {
     "cell_type": "code",
     "collapsed": false,
     "input": [
      "import glob, pickle\n",
      "import numpy as np\n",
      "import pandas\n",
      "\n",
      "import holoviews\n",
      "from holoviews import ViewMap\n",
      "from holoviews.interface.seaborn import DFrame\n",
      "from holoviews.ipython.widgets import ProgressBar\n",
      "\n",
      "from matplotlib import pyplot as plt\n",
      "%matplotlib inline"
     ],
     "language": "python",
     "metadata": {},
     "outputs": [],
     "prompt_number": 4
    },
    {
     "cell_type": "code",
     "collapsed": false,
     "input": [
      "prediction_dict = {}\n",
      "train_labels = pandas.read_csv('TrainLabels.csv')\n",
      "for label, prediction in zip(train_labels.IdFeedBack, train_labels.Prediction):\n",
      "    subject = int(label[1:3])\n",
      "    session = int(label[8:10])\n",
      "    event = int(label[-3:])\n",
      "    prediction_dict[(subject, session, event)] = prediction"
     ],
     "language": "python",
     "metadata": {},
     "outputs": [],
     "prompt_number": 3
    },
    {
     "cell_type": "code",
     "collapsed": false,
     "input": [
      "pandas.DataFrame(prediction_dict)"
     ],
     "language": "python",
     "metadata": {},
     "outputs": [
      {
       "ename": "ValueError",
       "evalue": "If using all scalar values, you must must pass an index",
       "output_type": "pyerr",
       "traceback": [
        "\u001b[1;31m---------------------------------------------------------------------------\u001b[0m\n\u001b[1;31mValueError\u001b[0m                                Traceback (most recent call last)",
        "\u001b[1;32m<ipython-input-9-6c7978855d9e>\u001b[0m in \u001b[0;36m<module>\u001b[1;34m()\u001b[0m\n\u001b[1;32m----> 1\u001b[1;33m \u001b[0mpandas\u001b[0m\u001b[1;33m.\u001b[0m\u001b[0mDataFrame\u001b[0m\u001b[1;33m(\u001b[0m\u001b[0mprediction_dict\u001b[0m\u001b[1;33m)\u001b[0m\u001b[1;33m\u001b[0m\u001b[0m\n\u001b[0m",
        "\u001b[1;32m/home/philippjfr/Envs/science/local/lib/python2.7/site-packages/pandas/core/frame.pyc\u001b[0m in \u001b[0;36m__init__\u001b[1;34m(self, data, index, columns, dtype, copy)\u001b[0m\n\u001b[0;32m    201\u001b[0m                                  dtype=dtype, copy=copy)\n\u001b[0;32m    202\u001b[0m         \u001b[1;32melif\u001b[0m \u001b[0misinstance\u001b[0m\u001b[1;33m(\u001b[0m\u001b[0mdata\u001b[0m\u001b[1;33m,\u001b[0m \u001b[0mdict\u001b[0m\u001b[1;33m)\u001b[0m\u001b[1;33m:\u001b[0m\u001b[1;33m\u001b[0m\u001b[0m\n\u001b[1;32m--> 203\u001b[1;33m             \u001b[0mmgr\u001b[0m \u001b[1;33m=\u001b[0m \u001b[0mself\u001b[0m\u001b[1;33m.\u001b[0m\u001b[0m_init_dict\u001b[0m\u001b[1;33m(\u001b[0m\u001b[0mdata\u001b[0m\u001b[1;33m,\u001b[0m \u001b[0mindex\u001b[0m\u001b[1;33m,\u001b[0m \u001b[0mcolumns\u001b[0m\u001b[1;33m,\u001b[0m \u001b[0mdtype\u001b[0m\u001b[1;33m=\u001b[0m\u001b[0mdtype\u001b[0m\u001b[1;33m)\u001b[0m\u001b[1;33m\u001b[0m\u001b[0m\n\u001b[0m\u001b[0;32m    204\u001b[0m         \u001b[1;32melif\u001b[0m \u001b[0misinstance\u001b[0m\u001b[1;33m(\u001b[0m\u001b[0mdata\u001b[0m\u001b[1;33m,\u001b[0m \u001b[0mma\u001b[0m\u001b[1;33m.\u001b[0m\u001b[0mMaskedArray\u001b[0m\u001b[1;33m)\u001b[0m\u001b[1;33m:\u001b[0m\u001b[1;33m\u001b[0m\u001b[0m\n\u001b[0;32m    205\u001b[0m             \u001b[1;32mimport\u001b[0m \u001b[0mnumpy\u001b[0m\u001b[1;33m.\u001b[0m\u001b[0mma\u001b[0m\u001b[1;33m.\u001b[0m\u001b[0mmrecords\u001b[0m \u001b[1;32mas\u001b[0m \u001b[0mmrecords\u001b[0m\u001b[1;33m\u001b[0m\u001b[0m\n",
        "\u001b[1;32m/home/philippjfr/Envs/science/local/lib/python2.7/site-packages/pandas/core/frame.pyc\u001b[0m in \u001b[0;36m_init_dict\u001b[1;34m(self, data, index, columns, dtype)\u001b[0m\n\u001b[0;32m    325\u001b[0m \u001b[1;33m\u001b[0m\u001b[0m\n\u001b[0;32m    326\u001b[0m         return _arrays_to_mgr(arrays, data_names, index, columns,\n\u001b[1;32m--> 327\u001b[1;33m                               dtype=dtype)\n\u001b[0m\u001b[0;32m    328\u001b[0m \u001b[1;33m\u001b[0m\u001b[0m\n\u001b[0;32m    329\u001b[0m     def _init_ndarray(self, values, index, columns, dtype=None,\n",
        "\u001b[1;32m/home/philippjfr/Envs/science/local/lib/python2.7/site-packages/pandas/core/frame.pyc\u001b[0m in \u001b[0;36m_arrays_to_mgr\u001b[1;34m(arrays, arr_names, index, columns, dtype)\u001b[0m\n\u001b[0;32m   4618\u001b[0m     \u001b[1;31m# figure out the index, if necessary\u001b[0m\u001b[1;33m\u001b[0m\u001b[1;33m\u001b[0m\u001b[0m\n\u001b[0;32m   4619\u001b[0m     \u001b[1;32mif\u001b[0m \u001b[0mindex\u001b[0m \u001b[1;32mis\u001b[0m \u001b[0mNone\u001b[0m\u001b[1;33m:\u001b[0m\u001b[1;33m\u001b[0m\u001b[0m\n\u001b[1;32m-> 4620\u001b[1;33m         \u001b[0mindex\u001b[0m \u001b[1;33m=\u001b[0m \u001b[0mextract_index\u001b[0m\u001b[1;33m(\u001b[0m\u001b[0marrays\u001b[0m\u001b[1;33m)\u001b[0m\u001b[1;33m\u001b[0m\u001b[0m\n\u001b[0m\u001b[0;32m   4621\u001b[0m     \u001b[1;32melse\u001b[0m\u001b[1;33m:\u001b[0m\u001b[1;33m\u001b[0m\u001b[0m\n\u001b[0;32m   4622\u001b[0m         \u001b[0mindex\u001b[0m \u001b[1;33m=\u001b[0m \u001b[0m_ensure_index\u001b[0m\u001b[1;33m(\u001b[0m\u001b[0mindex\u001b[0m\u001b[1;33m)\u001b[0m\u001b[1;33m\u001b[0m\u001b[0m\n",
        "\u001b[1;32m/home/philippjfr/Envs/science/local/lib/python2.7/site-packages/pandas/core/frame.pyc\u001b[0m in \u001b[0;36mextract_index\u001b[1;34m(data)\u001b[0m\n\u001b[0;32m   4657\u001b[0m \u001b[1;33m\u001b[0m\u001b[0m\n\u001b[0;32m   4658\u001b[0m         \u001b[1;32mif\u001b[0m \u001b[1;32mnot\u001b[0m \u001b[0mindexes\u001b[0m \u001b[1;32mand\u001b[0m \u001b[1;32mnot\u001b[0m \u001b[0mraw_lengths\u001b[0m\u001b[1;33m:\u001b[0m\u001b[1;33m\u001b[0m\u001b[0m\n\u001b[1;32m-> 4659\u001b[1;33m             raise ValueError('If using all scalar values, you must must pass'\n\u001b[0m\u001b[0;32m   4660\u001b[0m                              ' an index')\n\u001b[0;32m   4661\u001b[0m \u001b[1;33m\u001b[0m\u001b[0m\n",
        "\u001b[1;31mValueError\u001b[0m: If using all scalar values, you must must pass an index"
       ]
      }
     ],
     "prompt_number": 9
    },
    {
     "cell_type": "code",
     "collapsed": false,
     "input": [
      "float(np.sum(prediction_dict.values()))/len(prediction_dict.values())"
     ],
     "language": "python",
     "metadata": {},
     "outputs": [
      {
       "metadata": {},
       "output_type": "pyout",
       "prompt_number": 8,
       "text": [
        "0.7077205882352942"
       ]
      }
     ],
     "prompt_number": 8
    },
    {
     "cell_type": "code",
     "collapsed": false,
     "input": [
      "session_files = glob.glob('train/*.csv')\n",
      "event_map = holoviews.ViewMap(dimensions=['Subject', 'Session', 'FBEvent', 'Classification'])\n",
      "times = np.linspace(-0.1,0.6,141)\n",
      "progress = ProgressBar()\n",
      "for sidx, session_file in enumerate(session_files):\n",
      "    subject = int(session_file[12:14])\n",
      "    session = int(session_file[19:21])\n",
      "    session_df = pandas.read_csv(session_file)\n",
      "    session_times = session_df['Time']\n",
      "    feedback_times = session_df[session_df.FeedBackEvent == 1].Time\n",
      "    for tidx, time in enumerate(feedback_times):\n",
      "        event_slice = session_df[(time-0.101 < session_times) & (session_times < time+0.601)]\n",
      "        event_slice.Time = times\n",
      "        classification = prediction_dict[(subject, session, tidx+1)]\n",
      "        event_map[(subject, session, tidx+1, classification)] = DFrame(event_slice)\n",
      "    progress(float(sidx)+1/len(session_files)*100)"
     ],
     "language": "python",
     "metadata": {},
     "outputs": [
      {
       "output_type": "stream",
       "stream": "stdout",
       "text": [
        "\r",
        "Progress:\n",
        "[#######################################################               ] 79.0%"
       ]
      }
     ],
     "prompt_number": 9
    },
    {
     "cell_type": "code",
     "collapsed": false,
     "input": [
      "session_files = glob.glob('test/*.csv')\n",
      "test_map = holoviews.ViewMap(dimensions=['Subject', 'Session', 'FBEvent'])\n",
      "times = np.linspace(-0.1,0.6,141)\n",
      "progress = ProgressBar()\n",
      "for sidx, session_file in enumerate(session_files):\n",
      "    subject = int(session_file[11:13])\n",
      "    session = int(session_file[18:20])\n",
      "    session_df = pandas.read_csv(session_file)\n",
      "    session_times = session_df['Time']\n",
      "    feedback_times = session_df[session_df.FeedBackEvent == 1].Time\n",
      "    for tidx, time in enumerate(feedback_times):\n",
      "        event_slice = session_df[(time-0.101 < session_times) & (session_times < time+0.601)]\n",
      "        event_slice.Time = times[:len(event_slice+1)]\n",
      "        test_map[(subject, session, tidx+1)] = DFrame(event_slice)\n",
      "    progress(float(sidx)+1/len(session_files)*100)"
     ],
     "language": "python",
     "metadata": {},
     "outputs": [
      {
       "output_type": "stream",
       "stream": "stdout",
       "text": [
        "\r",
        "Progress:\n",
        "[##################################                                    ] 49.0%"
       ]
      }
     ],
     "prompt_number": 3
    },
    {
     "cell_type": "code",
     "collapsed": false,
     "input": [
      "with open('train_map_long.pkl', 'wb') as f:\n",
      "    pickle.dump(event_map, f)"
     ],
     "language": "python",
     "metadata": {},
     "outputs": [],
     "prompt_number": 10
    },
    {
     "cell_type": "code",
     "collapsed": false,
     "input": [
      "with open('test_map_long.pkl', 'wb') as f:\n",
      "    pickle.dump(test_map, f)"
     ],
     "language": "python",
     "metadata": {},
     "outputs": [],
     "prompt_number": 4
    },
    {
     "cell_type": "code",
     "collapsed": false,
     "input": [],
     "language": "python",
     "metadata": {},
     "outputs": []
    }
   ],
   "metadata": {}
  }
 ]
}