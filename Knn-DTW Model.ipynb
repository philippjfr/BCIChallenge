{
 "metadata": {
  "name": "",
  "signature": "sha256:b11178b2e669357befe3967c1b9401e372f3d648d24153e25ca214b63f40cde2"
 },
 "nbformat": 3,
 "nbformat_minor": 0,
 "worksheets": [
  {
   "cells": [
    {
     "cell_type": "markdown",
     "metadata": {},
     "source": [
      "# KNN DTW Model"
     ]
    },
    {
     "cell_type": "code",
     "collapsed": false,
     "input": [
      "import glob, pickle\n",
      "import sys\n",
      "import collections\n",
      "import itertools\n",
      "from itertools import permutations\n",
      "\n",
      "import numpy as np\n",
      "import pandas\n",
      "import mlpy\n",
      "import scipy\n",
      "from scipy.stats import mode\n",
      "import sklearn\n",
      "from sklearn import metrics\n",
      "from sklearn.cross_validation import cross_val_score\n",
      "\n",
      "import param\n",
      "\n",
      "import holoviews\n",
      "from holoviews import ViewMap\n",
      "from holoviews.interface.seaborn import DFrame\n",
      "from holoviews.ipython.widgets import ProgressBar\n",
      "\n",
      "from matplotlib import pyplot as plt\n",
      "%matplotlib inline"
     ],
     "language": "python",
     "metadata": {},
     "outputs": [],
     "prompt_number": 1
    },
    {
     "cell_type": "code",
     "collapsed": false,
     "input": [
      "%load_ext holoviews.ipython"
     ],
     "language": "python",
     "metadata": {},
     "outputs": [
      {
       "output_type": "stream",
       "stream": "stdout",
       "text": [
        "Welcome to the holoviews IPython extension! (http://ioam.github.io/holoviews/)\n",
        "Available magics: %opts, %params, %view, %%labels, %%opts, %%view\n"
       ]
      }
     ],
     "prompt_number": 2
    },
    {
     "cell_type": "code",
     "collapsed": false,
     "input": [
      "with open('train_map_long.pkl', 'rb') as f:\n",
      "    train_map = pickle.load(f)\n",
      "with open('test_map_long.pkl', 'rb') as f:\n",
      "    test_map = pickle.load(f)"
     ],
     "language": "python",
     "metadata": {},
     "outputs": [],
     "prompt_number": 3
    },
    {
     "cell_type": "code",
     "collapsed": false,
     "input": [
      "channel_names = list(train_map.last.data.columns[1:-1])"
     ],
     "language": "python",
     "metadata": {},
     "outputs": [],
     "prompt_number": 4
    },
    {
     "cell_type": "code",
     "collapsed": false,
     "input": [
      "class KnnDtw(param.Parameterized):\n",
      "    \"\"\"K-nearest neighbor classifier using dynamic time warping\n",
      "    as the distance measure between pairs of time series arrays\n",
      "    \n",
      "    Arguments\n",
      "    ---------\n",
      "    n_neighbors : int, optional (default = 5)\n",
      "        \n",
      "    \"\"\"\n",
      "    \n",
      "    n_neighbors = param.Integer(default=50, doc=\"\"\"\n",
      "        Number of neighbors to use by default for KNN\"\"\")\n",
      "    \n",
      "    progress_bar = param.Boolean(default=False)\n",
      "\n",
      "    def __init__(self, **params):\n",
      "        \"\"\"Fit the model using x as training data and l as class labels\n",
      "        \n",
      "        Arguments\n",
      "        ---------\n",
      "        x : array of shape [n_samples, n_timepoints]\n",
      "            Training data set for input into KNN classifer\n",
      "            \n",
      "        l : array of shape [n_samples]\n",
      "            Training labels for input into KNN classifier\n",
      "        \"\"\"\n",
      "        self.cache = None\n",
      "        self.x_prev = None\n",
      "        super(KnnDtw, self).__init__(**params)\n",
      "        \n",
      "    def get_params(self, deep=False):\n",
      "        return dict(self.get_param_values(onlychanged=not deep))\n",
      "        \n",
      "    def fit(self, x, l):\n",
      "        self.x=x\n",
      "        self.l=l        \n",
      "\n",
      "\n",
      "    def _dist_matrix(self, x, y):\n",
      "        \"\"\"Computes the M x N distance matrix between the training\n",
      "        dataset and testing dataset (y) using the DTW distance measure\n",
      "        \n",
      "        Arguments\n",
      "        ---------\n",
      "        x : array of shape [n_samples, n_timepoints]\n",
      "        \n",
      "        y : array of shape [n_samples, n_timepoints]\n",
      "        \n",
      "        Returns\n",
      "        -------\n",
      "        Distance matrix between each item of x and y with\n",
      "            shape [training_n_samples, testing_n_samples]\n",
      "        \"\"\"\n",
      "        \n",
      "        # Compute the distance matrix        \n",
      "        dm_count = 0\n",
      "        x_s = np.shape(x)\n",
      "        y_s = np.shape(y)\n",
      "        dm = np.zeros((x_s[0], y_s[0])) \n",
      "        dm_size = x_s[0]*y_s[0]\n",
      "\n",
      "        total = dm_size\n",
      "        p = ProgressBar()\n",
      "\n",
      "        for i in xrange(0, x_s[0]):\n",
      "            for j in xrange(0, y_s[0]):\n",
      "                dm[i, j] = mlpy.dtw_std(x[i, :],\n",
      "                                        y[j, :], dist_only=True)\n",
      "                # Update progress bar\n",
      "                dm_count += 1\n",
      "            if self.progress_bar:\n",
      "                p(float(dm_count)/total*100)\n",
      "\n",
      "        return dm\n",
      "\n",
      "\n",
      "    def predict(self, x, n_neighbors=1, weighted=False, train=False):\n",
      "        \"\"\"Predict the class labels or probability estimates for \n",
      "        the provided data\n",
      "\n",
      "        Arguments\n",
      "        ---------\n",
      "          x : array of shape [n_samples, n_timepoints]\n",
      "              Array containing the testing data set to be classified\n",
      "          \n",
      "        Returns\n",
      "        -------\n",
      "          2 arrays representing:\n",
      "              (1) the predicted class labels \n",
      "              (2) the knn label count probability\n",
      "        \"\"\"\n",
      "        if np.array_equal(x, self.x_prev):\n",
      "            dm = self.cache\n",
      "        else:\n",
      "            dm = self._dist_matrix(x, self.x)\n",
      "            self.cache = dm\n",
      "            self.x_prev = x\n",
      "\n",
      "        # Identify the k nearest neighbors\n",
      "        start = 1 if train else 0\n",
      "        if train:\n",
      "            knn_idx = dm.argsort()[:, 1:n_neighbors+1]\n",
      "        else:\n",
      "            knn_idx = dm.argsort()[:, :n_neighbors]  \n",
      "        # Identify k nearest labels\n",
      "        knn_labels = self.l[knn_idx]\n",
      "        if weighted:\n",
      "            knn_weights = dm[dm.argsort()][:, start:n_neighbors]\n",
      "            knn_weights = (knn_weights/1)\n",
      "            knn_weights = knn_weights/knn_weights.max()\n",
      "            mode_data = knn_labels * knn_weights\n",
      "        else:\n",
      "            # Model Label\n",
      "            mode_data = np.mean(knn_labels, axis=1)\n",
      "            mode_label = np.round(mode_data)\n",
      "\n",
      "        return mode_label.ravel(), mode_data.ravel()"
     ],
     "language": "python",
     "metadata": {},
     "outputs": [],
     "prompt_number": 73
    },
    {
     "cell_type": "code",
     "collapsed": false,
     "input": [
      "sample_rate=200\n",
      "def get_data(event_map, splitter, time_window=(200., 300.), channel='TP8', dc=False, filter=False):\n",
      "    x_train, y_train = [], []\n",
      "    x_test, y_test = [], []\n",
      "    labelled = 'Classification' in event_map.dimension_labels\n",
      "    start, stop = float(time_window[0])/1000, float(time_window[1])/1000\n",
      "    for (k, sample), train in zip(event_map.items(), splitter):\n",
      "        if labelled:\n",
      "            label = k[3]\n",
      "        \n",
      "        # Design and apply the bandpass filter\n",
      "        if filter:\n",
      "            a, b = scipy.signal.iirfilter(3, [0.5/(sample_rate/2.0), 100/(sample_rate/2.0)])\n",
      "            sample.data[channel] = scipy.signal.filtfilt(a, b, np.array(sample.data[channel]), axis=0)\n",
      "        \n",
      "        baseline = np.array(sample.data[(0 <= sample.data['Time']) & (sample.data['Time'] < 100)][channel]).mean()\n",
      "        data = np.array(sample.data[(start <= sample.data['Time']) & (sample.data['Time'] < stop)][channel])\n",
      "        data = data if dc else data-baseline\n",
      "        if train:\n",
      "            x_train.append(data)\n",
      "            if labelled:\n",
      "                y_train.append(label)\n",
      "        else:\n",
      "            x_test.append(data)\n",
      "            if labelled:\n",
      "                y_test.append(label)\n",
      "    return np.vstack(x_train), np.array(y_train), np.vstack(x_test) if len(x_test) else x_test, np.array(y_test)"
     ],
     "language": "python",
     "metadata": {},
     "outputs": [],
     "prompt_number": 41
    },
    {
     "cell_type": "code",
     "collapsed": false,
     "input": [
      "channels_df = pandas.read_csv('Channels_Ranking.csv')\n",
      "best_channels = channels_df[-20:]\n",
      "channel_windows = zip(best_channels.Channel, [eval(tw) for tw in best_channels['Time Window']])"
     ],
     "language": "python",
     "metadata": {},
     "outputs": [],
     "prompt_number": 7
    },
    {
     "cell_type": "code",
     "collapsed": false,
     "input": [
      "best_features=[(u'C3', 0.64779411764705885, (70.0, 90.0)),\n",
      " (u'C6', 0.64889705882352944, (80.0, 100.0)),\n",
      " (u'PO7', 0.65128676470588232, (35.0, 100.0)),\n",
      " (u'C1', 0.65257352941176472, (70.0, 95.0)),\n",
      " (u'POz', 0.65422794117647054, (70.0, 90.0)),\n",
      " (u'C4', 0.65514705882352942, (30.0, 90.0)),\n",
      " (u'Cz', 0.65588235294117647, (75.0, 100.0)),\n",
      " (u'C2', 0.65680147058823535, (75.0, 90.0)),\n",
      " (u'CP3', 0.65680147058823535, (5.0, 95.0)),\n",
      " (u'P5', 0.65716911764705888, (40.0, 90.0)),\n",
      " (u'CP6', 0.65863970588235299, (15.0, 100.0)),\n",
      " (u'P6', 0.65937500000000004, (35.0, 95.0)),\n",
      " (u'P3', 0.65992647058823528, (40.0, 95.0)),\n",
      " (u'CP4', 0.66194852941176474, (0.0, 85.0)),\n",
      " (u'CP1', 0.66286764705882351, (70.0, 100.0)),\n",
      " (u'CP2', 0.66433823529411762, (70.0, 95.0)),\n",
      " (u'P4', 0.66452205882352944, (25.0, 85.0)),\n",
      " (u'P1', 0.66488970588235297, (20.0, 100.0)),\n",
      " (u'CPz', 0.66599264705882355, (70.0, 100.0)),\n",
      " (u'P2', 0.66727941176470584, (5.0, 95.0)),\n",
      " (u'Pz', 0.6680147058823529, (0.0, 95.0))]\n",
      "channel_windows = [(str(bf[0]), (int(bf[2][0])*5, int(bf[2][1])*5)) for bf in best_features]"
     ],
     "language": "python",
     "metadata": {},
     "outputs": []
    },
    {
     "cell_type": "code",
     "collapsed": false,
     "input": [
      "channel_windows[-5:]"
     ],
     "language": "python",
     "metadata": {},
     "outputs": []
    },
    {
     "cell_type": "code",
     "collapsed": false,
     "input": [
      "channel_windows = [('CP4', (175, 500)),\n",
      "                   ('P7', (200, 300)),\n",
      "                   ('F8', (0, 425)),\n",
      "                   ('CPz', (300, 500)),\n",
      "                   ('PO7', (150, 325)),\n",
      "                   ('Pz', (300, 500)),\n",
      "                   ('FC5', (250, 400)),\n",
      "                   ('F8', (250, 500)),\n",
      "                   ('CP2', (200, 500)),\n",
      "                   ('FT7', (150, 500)),\n",
      "                   ('P2', (150, 500)),\n",
      "                   ('F4', (150, 550)),\n",
      "                   ('FT8', (150, 500))]"
     ],
     "language": "python",
     "metadata": {},
     "outputs": [],
     "prompt_number": 16
    },
    {
     "cell_type": "code",
     "collapsed": false,
     "input": [
      "channel_windows = [('C1', (475, 500)),\n",
      " ('C4', (475, 500)),\n",
      " ('P4', (475, 500)),\n",
      " ('Cz', (475, 500)),\n",
      " ('P1', (475, 500)),\n",
      " ('CP1', (475, 500)),\n",
      " ('T7', (200, 375)),\n",
      " ('CPz', (475, 500)),\n",
      " ('F3', (275, 475)),\n",
      " ('Pz', (475, 500)),\n",
      " ('F6', (300, 450)),\n",
      " ('CP4', (475, 500)),\n",
      " ('P2', (0, 500)),\n",
      " ('F1', (0, 450)),\n",
      " ('F8', (300, 500)),\n",
      " ('CP2', (475, 500)),\n",
      " ('FC5', (275, 450)),\n",
      " ('FT7', (250, 500)),\n",
      " ('F4', (150, 475)),\n",
      " ('FT8', (250, 475))]"
     ],
     "language": "python",
     "metadata": {},
     "outputs": [],
     "prompt_number": 8
    },
    {
     "cell_type": "code",
     "collapsed": false,
     "input": [
      "channel_windows = [('CP4', (175, 325)),\n",
      "                   ('P7', (200, 300)),\n",
      "                   ('F8', (0, 425)),\n",
      "                   ('CPz', (350, 500)),\n",
      "                   ('P2', (350, 425)),\n",
      "                   ('PO7', (175, 300)),\n",
      "                   ('FT7', (275, 400)),\n",
      "                   ('Pz', (350, 425)),\n",
      "                   ('FC5', (300, 375)),\n",
      "                   ('CP2', (200, 475)),\n",
      "                   ('TP8', (200, 300))]"
     ],
     "language": "python",
     "metadata": {},
     "outputs": [],
     "prompt_number": 12
    },
    {
     "cell_type": "code",
     "collapsed": false,
     "input": [
      "channel_windows = ('CP)"
     ],
     "language": "python",
     "metadata": {},
     "outputs": []
    },
    {
     "cell_type": "code",
     "collapsed": false,
     "input": [
      "reduced_channel_windows = [channel_windows[idx] for idx in [8,0, 5, 4, 3, 2]]"
     ],
     "language": "python",
     "metadata": {},
     "outputs": [],
     "prompt_number": 13
    },
    {
     "cell_type": "markdown",
     "metadata": {},
     "source": [
      "## Run Knn DWT on selected channels and time windows"
     ]
    },
    {
     "cell_type": "code",
     "collapsed": false,
     "input": [
      "def scorer(classifier, x, y):\n",
      "    label, proba = classifier.predict(x, n_neighbors=50)\n",
      "    return sklearn.metrics.roc_auc_score(y, proba)"
     ],
     "language": "python",
     "metadata": {},
     "outputs": [],
     "prompt_number": 47
    },
    {
     "cell_type": "code",
     "collapsed": false,
     "input": [
      "from sklearn import svm"
     ],
     "language": "python",
     "metadata": {},
     "outputs": [],
     "prompt_number": 48
    },
    {
     "cell_type": "code",
     "collapsed": false,
     "input": [
      "from collections import defaultdict"
     ],
     "language": "python",
     "metadata": {},
     "outputs": [],
     "prompt_number": 49
    },
    {
     "cell_type": "code",
     "collapsed": false,
     "input": [
      "channel_windows"
     ],
     "language": "python",
     "metadata": {},
     "outputs": [
      {
       "metadata": {},
       "output_type": "pyout",
       "prompt_number": 50,
       "text": [
        "[('C6', (380, 510)),\n",
        " ('Cz', (360, 430)),\n",
        " ('C1', (380, 450)),\n",
        " ('P5', (70, 450)),\n",
        " ('C2', (380, 430)),\n",
        " ('C4', (0, 490)),\n",
        " ('PO7', (180, 510)),\n",
        " ('POz', (180, 450)),\n",
        " ('P6', (180, 450)),\n",
        " ('CP3', (140, 430)),\n",
        " ('P3', (160, 470)),\n",
        " ('CP6', (30, 490)),\n",
        " ('CP1', (0, 520)),\n",
        " ('CPz', (350, 490)),\n",
        " ('CP2', (160, 540)),\n",
        " ('CP4', (0, 520)),\n",
        " ('P4', (160, 490)),\n",
        " ('Pz', (90, 490)),\n",
        " ('P1', (160, 490)),\n",
        " ('P2', (70, 490))]"
       ]
      }
     ],
     "prompt_number": 50
    },
    {
     "cell_type": "code",
     "collapsed": false,
     "input": [
      "scores = defaultdict(list)\n",
      "cv_scores = defaultdict(list)\n",
      "train_probas = defaultdict(list)\n",
      "cross_val=True\n",
      "full_train = True\n",
      "predict = True\n",
      "probas = {}\n",
      "labels = {}\n",
      "classifiers = {}"
     ],
     "language": "python",
     "metadata": {},
     "outputs": [],
     "prompt_number": 74
    },
    {
     "cell_type": "code",
     "collapsed": false,
     "input": [
      "splitter = np.ones(len(train_map))\n",
      "for channel, (start, stop) in channel_windows:\n",
      "    print \"Starting channel %s, time window from %s ms to %s ms.\" % (channel, str(start), str(stop)) \n",
      "    x_train, y_train, _, _ = get_data(train_map, splitter, channel=channel, time_window=(start, stop), filter=False)\n",
      "    x_test, _, _, _ = get_data(test_map, splitter, channel=channel, time_window=(start, stop))\n",
      "    classifier = KnnDtw(progress_bar=False)\n",
      "    classifiers[channel] = classifier    \n",
      "    classifier.fit(x_train, y_train)\n",
      "    if cross_val and channel not in cv_scores:\n",
      "        cv_scores[channel] = cross_val_score(classifier, x_train, y_train, scoring=scorer, cv=3, n_jobs=-1)\n",
      "        print \"CV score: \", cv_scores[channel].mean()\n",
      "    if full_train and channel not in scores:\n",
      "        for i in range(1,51):\n",
      "            label, train_proba = classifier.predict(x_train, n_neighbors=i, train=True)\n",
      "            scores[channel].append(sklearn.metrics.roc_auc_score(y_train, train_proba))\n",
      "            train_probas[channel].append(train_proba)\n",
      "        print \"Training performance for 1: %f, 10: %f, 30: %f and 50: %f neighbors\" % tuple(scores[channel][i] for i in [0, 9, 29, 49]) \n",
      "    if predict:\n",
      "        print \"Predicting test data\"\n",
      "        label, proba = classifier.predict(x_test, n_neighbors=50)\n",
      "        probas[channel] = proba\n",
      "        labels[channel] = label\n",
      "        print \"---------------------------------\\n\\n\""
     ],
     "language": "python",
     "metadata": {},
     "outputs": [
      {
       "output_type": "stream",
       "stream": "stdout",
       "text": [
        "Starting channel C6, time window from 380 ms to 510 ms.\n"
       ]
      },
      {
       "output_type": "stream",
       "stream": "stdout",
       "text": [
        "CV score:  0.56369346002\n",
        "Training performance for 1: 0.532455, 10: 0.581307, 30: 0.601740 and 50: 0.618668 neighbors"
       ]
      },
      {
       "output_type": "stream",
       "stream": "stdout",
       "text": [
        "\n",
        "Predicting test data\n",
        "---------------------------------\n",
        "\n"
       ]
      },
      {
       "output_type": "stream",
       "stream": "stdout",
       "text": [
        "\n",
        "Starting channel Cz, time window from 360 ms to 430 ms.\n"
       ]
      },
      {
       "output_type": "stream",
       "stream": "stdout",
       "text": [
        "CV score:  0.591046653896\n",
        "Training performance for 1: 0.520610, 10: 0.563076, 30: 0.594648 and 50: 0.598855 neighbors"
       ]
      },
      {
       "output_type": "stream",
       "stream": "stdout",
       "text": [
        "\n",
        "Predicting test data\n",
        "---------------------------------\n",
        "\n"
       ]
      },
      {
       "output_type": "stream",
       "stream": "stdout",
       "text": [
        "\n",
        "Starting channel C1, time window from 380 ms to 450 ms.\n"
       ]
      },
      {
       "output_type": "stream",
       "stream": "stdout",
       "text": [
        "CV score:  0.581146812795\n",
        "Training performance for 1: 0.523707, 10: 0.562565, 30: 0.581771 and 50: 0.590716 neighbors"
       ]
      },
      {
       "output_type": "stream",
       "stream": "stdout",
       "text": [
        "\n",
        "Predicting test data\n",
        "---------------------------------\n",
        "\n"
       ]
      },
      {
       "output_type": "stream",
       "stream": "stdout",
       "text": [
        "\n",
        "Starting channel P5, time window from 70 ms to 450 ms.\n"
       ]
      },
      {
       "output_type": "stream",
       "stream": "stdout",
       "text": [
        "CV score:  0.570320637331\n",
        "Training performance for 1: 0.526821, 10: 0.606098, 30: 0.627963 and 50: 0.633793 neighbors"
       ]
      },
      {
       "output_type": "stream",
       "stream": "stdout",
       "text": [
        "\n",
        "Predicting test data\n",
        "---------------------------------\n",
        "\n"
       ]
      },
      {
       "output_type": "stream",
       "stream": "stdout",
       "text": [
        "\n",
        "Starting channel C2, time window from 380 ms to 430 ms.\n"
       ]
      },
      {
       "output_type": "stream",
       "stream": "stdout",
       "text": [
        "CV score:  0.586686598776\n",
        "Training performance for 1: 0.523201, 10: 0.560199, 30: 0.585793 and 50: 0.593920 neighbors"
       ]
      },
      {
       "output_type": "stream",
       "stream": "stdout",
       "text": [
        "\n",
        "Predicting test data\n",
        "---------------------------------\n",
        "\n"
       ]
      },
      {
       "output_type": "stream",
       "stream": "stdout",
       "text": [
        "\n",
        "Starting channel C4, time window from 0 ms to 490 ms.\n"
       ]
      },
      {
       "output_type": "stream",
       "stream": "stdout",
       "text": [
        "CV score:  0.586078131725\n",
        "Training performance for 1: 0.537076, 10: 0.598135, 30: 0.635016 and 50: 0.640504 neighbors"
       ]
      },
      {
       "output_type": "stream",
       "stream": "stdout",
       "text": [
        "\n",
        "Predicting test data\n",
        "---------------------------------\n",
        "\n"
       ]
      },
      {
       "output_type": "stream",
       "stream": "stdout",
       "text": [
        "\n",
        "Starting channel PO7, time window from 180 ms to 510 ms.\n"
       ]
      },
      {
       "output_type": "stream",
       "stream": "stdout",
       "text": [
        "CV score:  0.512600285806\n",
        "Training performance for 1: 0.525702, 10: 0.586528, 30: 0.603352 and 50: 0.612090 neighbors"
       ]
      },
      {
       "output_type": "stream",
       "stream": "stdout",
       "text": [
        "\n",
        "Predicting test data\n",
        "---------------------------------\n",
        "\n"
       ]
      },
      {
       "output_type": "stream",
       "stream": "stdout",
       "text": [
        "\n",
        "Starting channel POz, time window from 180 ms to 450 ms.\n"
       ]
      },
      {
       "output_type": "stream",
       "stream": "stdout",
       "text": [
        "CV score:  0.542657822781\n",
        "Training performance for 1: 0.543325, 10: 0.593075, 30: 0.628583 and 50: 0.635331 neighbors"
       ]
      },
      {
       "output_type": "stream",
       "stream": "stdout",
       "text": [
        "\n",
        "Predicting test data\n",
        "---------------------------------\n",
        "\n"
       ]
      },
      {
       "output_type": "stream",
       "stream": "stdout",
       "text": [
        "\n",
        "Starting channel P6, time window from 180 ms to 450 ms.\n"
       ]
      },
      {
       "output_type": "stream",
       "stream": "stdout",
       "text": [
        "CV score:  0.56438116865\n",
        "Training performance for 1: 0.529544, 10: 0.588094, 30: 0.610062 and 50: 0.620586 neighbors"
       ]
      },
      {
       "output_type": "stream",
       "stream": "stdout",
       "text": [
        "\n",
        "Predicting test data\n",
        "---------------------------------\n",
        "\n"
       ]
      },
      {
       "output_type": "stream",
       "stream": "stdout",
       "text": [
        "\n",
        "Starting channel CP3, time window from 140 ms to 430 ms.\n"
       ]
      },
      {
       "output_type": "stream",
       "stream": "stdout",
       "text": [
        "CV score:  0.576090103686\n",
        "Training performance for 1: 0.539797, 10: 0.604286, 30: 0.627736 and 50: 0.634278 neighbors"
       ]
      },
      {
       "output_type": "stream",
       "stream": "stdout",
       "text": [
        "\n",
        "Predicting test data\n",
        "---------------------------------\n",
        "\n"
       ]
      },
      {
       "output_type": "stream",
       "stream": "stdout",
       "text": [
        "\n",
        "Starting channel P3, time window from 160 ms to 470 ms.\n"
       ]
      },
      {
       "output_type": "stream",
       "stream": "stdout",
       "text": [
        "CV score:  0.574775071137\n",
        "Training performance for 1: 0.538813, 10: 0.590869, 30: 0.616179 and 50: 0.627710 neighbors"
       ]
      },
      {
       "output_type": "stream",
       "stream": "stdout",
       "text": [
        "\n",
        "Predicting test data\n",
        "---------------------------------\n",
        "\n"
       ]
      },
      {
       "output_type": "stream",
       "stream": "stdout",
       "text": [
        "\n",
        "Starting channel CP6, time window from 30 ms to 490 ms.\n"
       ]
      },
      {
       "output_type": "stream",
       "stream": "stdout",
       "text": [
        "CV score:  0.573315117603\n",
        "Training performance for 1: 0.527042, 10: 0.604239, 30: 0.634922 and 50: 0.642994 neighbors"
       ]
      },
      {
       "output_type": "stream",
       "stream": "stdout",
       "text": [
        "\n",
        "Predicting test data\n",
        "---------------------------------\n",
        "\n"
       ]
      },
      {
       "output_type": "stream",
       "stream": "stdout",
       "text": [
        "\n",
        "Starting channel CP1, time window from 0 ms to 520 ms.\n"
       ]
      },
      {
       "output_type": "stream",
       "stream": "stdout",
       "text": [
        "CV score:  0.567499340029"
       ]
      },
      {
       "output_type": "stream",
       "stream": "stdout",
       "text": [
        "\n",
        "Training performance for 1: 0.537242, 10: 0.596703, 30: 0.618569 and 50: 0.631589 neighbors"
       ]
      },
      {
       "output_type": "stream",
       "stream": "stdout",
       "text": [
        "\n",
        "Predicting test data\n",
        "---------------------------------\n",
        "\n"
       ]
      },
      {
       "output_type": "stream",
       "stream": "stdout",
       "text": [
        "\n",
        "Starting channel CPz, time window from 350 ms to 490 ms.\n"
       ]
      },
      {
       "output_type": "stream",
       "stream": "stdout",
       "text": [
        "CV score:  0.582405513148\n",
        "Training performance for 1: 0.535178, 10: 0.579229, 30: 0.610859 and 50: 0.621868 neighbors"
       ]
      },
      {
       "output_type": "stream",
       "stream": "stdout",
       "text": [
        "\n",
        "Predicting test data\n",
        "---------------------------------\n",
        "\n"
       ]
      },
      {
       "output_type": "stream",
       "stream": "stdout",
       "text": [
        "\n",
        "Starting channel CP2, time window from 160 ms to 540 ms.\n"
       ]
      },
      {
       "output_type": "stream",
       "stream": "stdout",
       "text": [
        "CV score:  0.586008497794\n",
        "Training performance for 1: 0.538910, 10: 0.600791, 30: 0.640201 and 50: 0.653750 neighbors"
       ]
      },
      {
       "output_type": "stream",
       "stream": "stdout",
       "text": [
        "\n",
        "Predicting test data\n",
        "---------------------------------\n",
        "\n"
       ]
      },
      {
       "output_type": "stream",
       "stream": "stdout",
       "text": [
        "\n",
        "Starting channel CP4, time window from 0 ms to 520 ms.\n"
       ]
      },
      {
       "output_type": "stream",
       "stream": "stdout",
       "text": [
        "CV score:  0.570951775363\n",
        "Training performance for 1: 0.539516, 10: 0.601491, 30: 0.634167 and 50: 0.642791 neighbors"
       ]
      },
      {
       "output_type": "stream",
       "stream": "stdout",
       "text": [
        "\n",
        "Predicting test data\n",
        "---------------------------------\n",
        "\n"
       ]
      },
      {
       "output_type": "stream",
       "stream": "stdout",
       "text": [
        "\n",
        "Starting channel P4, time window from 160 ms to 490 ms.\n"
       ]
      },
      {
       "output_type": "stream",
       "stream": "stdout",
       "text": [
        "CV score:  0.572642695272"
       ]
      },
      {
       "output_type": "stream",
       "stream": "stdout",
       "text": [
        "\n",
        "Training performance for 1: 0.533270, 10: 0.602954, 30: 0.636324 and 50: 0.645684 neighbors"
       ]
      },
      {
       "output_type": "stream",
       "stream": "stdout",
       "text": [
        "\n",
        "Predicting test data\n",
        "---------------------------------\n",
        "\n"
       ]
      },
      {
       "output_type": "stream",
       "stream": "stdout",
       "text": [
        "\n",
        "Starting channel Pz, time window from 90 ms to 490 ms.\n"
       ]
      },
      {
       "output_type": "stream",
       "stream": "stdout",
       "text": [
        "CV score:  0.578942772625\n",
        "Training performance for 1: 0.535520, 10: 0.603450, 30: 0.628001 and 50: 0.638001 neighbors"
       ]
      },
      {
       "output_type": "stream",
       "stream": "stdout",
       "text": [
        "\n",
        "Predicting test data\n",
        "---------------------------------\n",
        "\n"
       ]
      },
      {
       "output_type": "stream",
       "stream": "stdout",
       "text": [
        "\n",
        "Starting channel P1, time window from 160 ms to 490 ms.\n"
       ]
      },
      {
       "output_type": "stream",
       "stream": "stdout",
       "text": [
        "CV score:  0.562954937786\n",
        "Training performance for 1: 0.541493, 10: 0.604037, 30: 0.629047 and 50: 0.630759 neighbors"
       ]
      },
      {
       "output_type": "stream",
       "stream": "stdout",
       "text": [
        "\n",
        "Predicting test data\n",
        "---------------------------------\n",
        "\n"
       ]
      },
      {
       "output_type": "stream",
       "stream": "stdout",
       "text": [
        "\n",
        "Starting channel P2, time window from 70 ms to 490 ms.\n"
       ]
      },
      {
       "output_type": "stream",
       "stream": "stdout",
       "text": [
        "CV score:  0.576063532192\n",
        "Training performance for 1: 0.545391, 10: 0.605310, 30: 0.625295 and 50: 0.639146 neighbors"
       ]
      },
      {
       "output_type": "stream",
       "stream": "stdout",
       "text": [
        "\n",
        "Predicting test data\n",
        "---------------------------------\n",
        "\n"
       ]
      },
      {
       "output_type": "stream",
       "stream": "stdout",
       "text": [
        "\n"
       ]
      }
     ],
     "prompt_number": 75
    },
    {
     "cell_type": "code",
     "collapsed": false,
     "input": [
      "from holoviews.interface import collector"
     ],
     "language": "python",
     "metadata": {},
     "outputs": [],
     "prompt_number": 76
    },
    {
     "cell_type": "code",
     "collapsed": false,
     "input": [
      "knn_data = collector.AttrTree()\n",
      "knn_data.Train_scores = scores\n",
      "knn_data.CV_scores = cv_scores\n",
      "knn_data.Train_probas = train_probas\n",
      "knn_data.Probas = probas\n",
      "knn_data.Labels = labels\n",
      "knn_data.Classifiers = classifiers"
     ],
     "language": "python",
     "metadata": {},
     "outputs": [],
     "prompt_number": 78
    },
    {
     "cell_type": "code",
     "collapsed": false,
     "input": [
      "with open('KnnDTW_data1.pkl', 'wb') as f:\n",
      "    pickle.dump(knn_data, f)"
     ],
     "language": "python",
     "metadata": {},
     "outputs": [],
     "prompt_number": 80
    },
    {
     "cell_type": "code",
     "collapsed": false,
     "input": [
      "score_map = holoviews.ViewMap(dimensions=['Channel'])\n",
      "for k, score in scores.items():\n",
      "    score_map[k] = holoviews.Curve(zip(range(len(score)), score))"
     ],
     "language": "python",
     "metadata": {},
     "outputs": [],
     "prompt_number": 81
    },
    {
     "cell_type": "code",
     "collapsed": false,
     "input": [
      "score_map"
     ],
     "language": "python",
     "metadata": {},
     "outputs": [
      {
       "html": [
        "<center><video controls style='max-width:100%'>\n",
        " <source src=\"data:video/webm;base64,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\" type=\"video/webm\">\n",
        " Your browser does not support the video tag.\n",
        "</video><center/>"
       ],
       "metadata": {},
       "output_type": "pyout",
       "prompt_number": 82,
       "text": [
        "ViewMap(constant_dimensions=[], constant_values={}, dimensions=[Dimension(cyclic=False, format_string='{name} = {val}{unit}', name='Channel', range=(0, 0), type=None, unit=None)], name='ViewMap00243', title_suffix='\\n {dims}')"
       ]
      }
     ],
     "prompt_number": 82
    },
    {
     "cell_type": "code",
     "collapsed": false,
     "input": [
      "scores"
     ],
     "language": "python",
     "metadata": {},
     "outputs": []
    },
    {
     "cell_type": "code",
     "collapsed": false,
     "input": [],
     "language": "python",
     "metadata": {},
     "outputs": [],
     "prompt_number": 116
    },
    {
     "cell_type": "code",
     "collapsed": false,
     "input": [
      "perm_probas[0][0]"
     ],
     "language": "python",
     "metadata": {},
     "outputs": [
      {
       "metadata": {},
       "output_type": "pyout",
       "prompt_number": 96,
       "text": [
        "'P2'"
       ]
      }
     ],
     "prompt_number": 96
    },
    {
     "cell_type": "markdown",
     "metadata": {},
     "source": [
      "## Explore different permutations of channels"
     ]
    },
    {
     "cell_type": "code",
     "collapsed": false,
     "input": [
      "perm_scores"
     ],
     "language": "python",
     "metadata": {},
     "outputs": [
      {
       "metadata": {},
       "output_type": "pyout",
       "prompt_number": 113,
       "text": [
        "{}"
       ]
      }
     ],
     "prompt_number": 113
    },
    {
     "cell_type": "code",
     "collapsed": false,
     "input": [
      "perm_scores"
     ],
     "language": "python",
     "metadata": {},
     "outputs": [
      {
       "metadata": {},
       "output_type": "pyout",
       "prompt_number": 124,
       "text": [
        "{(0, 1, 2, 3, 4, 5, 6, 7, 8): 0.67123131585395734,\n",
        " (0, 1, 2, 3, 4, 5, 6, 7, 9): 0.67004794576492677,\n",
        " (0, 1, 2, 3, 4, 5, 6, 8, 9): 0.67042407906558843,\n",
        " (0, 1, 2, 3, 4, 5, 7, 8, 9): 0.66771240708976554,\n",
        " (0, 1, 2, 3, 4, 6, 7, 8, 9): 0.6676884750469656,\n",
        " (0, 1, 2, 3, 5, 6, 7, 8, 9): 0.66919603038470954,\n",
        " (0, 1, 2, 4, 5, 6, 7, 8, 9): 0.6673103814424568,\n",
        " (0, 1, 3, 4, 5, 6, 7, 8, 9): 0.6713175692232296,\n",
        " (0, 2, 3, 4, 5, 6, 7, 8, 9): 0.67156170873151999,\n",
        " (1, 2, 3, 4, 5, 6, 7, 8, 9): 0.67055060034305314}"
       ]
      }
     ],
     "prompt_number": 124
    },
    {
     "cell_type": "code",
     "collapsed": false,
     "input": [
      "sklearn.metrics.roc_auc_score(y_train, perm_probas[:, :].mean(0))"
     ],
     "language": "python",
     "metadata": {},
     "outputs": [
      {
       "metadata": {},
       "output_type": "pyout",
       "prompt_number": 126,
       "text": [
        "0.67299460916442044"
       ]
      }
     ],
     "prompt_number": 126
    },
    {
     "cell_type": "code",
     "collapsed": false,
     "input": [
      "perm_probas.shape"
     ],
     "language": "python",
     "metadata": {},
     "outputs": [
      {
       "metadata": {},
       "output_type": "pyout",
       "prompt_number": 129,
       "text": [
        "(20, 5440)"
       ]
      }
     ],
     "prompt_number": 129
    },
    {
     "cell_type": "code",
     "collapsed": false,
     "input": [
      "perm_scores"
     ],
     "language": "python",
     "metadata": {},
     "outputs": [
      {
       "metadata": {},
       "output_type": "pyout",
       "prompt_number": 130,
       "text": [
        "{}"
       ]
      }
     ],
     "prompt_number": 130
    },
    {
     "cell_type": "code",
     "collapsed": false,
     "input": [
      "perm_scores"
     ],
     "language": "python",
     "metadata": {},
     "outputs": [
      {
       "metadata": {},
       "output_type": "pyout",
       "prompt_number": 133,
       "text": [
        "{(10, 11, 12, 13, 14, 15, 16, 17, 18, 19): 0.67299460916442044}"
       ]
      }
     ],
     "prompt_number": 133
    },
    {
     "cell_type": "code",
     "collapsed": false,
     "input": [
      "sklearn.metrics.roc_auc_score(y_train, perm_probas[:, :].mean(0))"
     ],
     "language": "python",
     "metadata": {},
     "outputs": [
      {
       "metadata": {},
       "output_type": "pyout",
       "prompt_number": 137,
       "text": [
        "0.67299460916442044"
       ]
      }
     ],
     "prompt_number": 137
    },
    {
     "cell_type": "code",
     "collapsed": false,
     "input": [
      "cv_scores"
     ],
     "language": "python",
     "metadata": {},
     "outputs": [
      {
       "metadata": {},
       "output_type": "pyout",
       "prompt_number": 138,
       "text": [
        "defaultdict(<type 'list'>, {'P2': array([ 0.59477542,  0.5791269 ,  0.55428828]), 'P3': array([ 0.56264027,  0.58390419,  0.57778076]), 'P1': array([ 0.56955731,  0.5788102 ,  0.5404973 ]), 'POz': array([ 0.52571983,  0.56719005,  0.53506358]), 'P4': array([ 0.59039475,  0.58615802,  0.54137531]), 'CP4': array([ 0.59101363,  0.58384905,  0.53799265]), 'P5': array([ 0.61942475,  0.53668799,  0.55484917]), 'Pz': array([ 0.60059421,  0.58367423,  0.55255988]), 'PO7': array([ 0.53820519,  0.51348131,  0.48611435]), 'Cz': array([ 0.58329274,  0.58089594,  0.60895128]), 'CPz': array([ 0.59606249,  0.58337771,  0.56777634]), 'CP2': array([ 0.5991083 ,  0.60008109,  0.5588361 ]), 'CP1': array([ 0.59121093,  0.59341372,  0.51787337]), 'C2': array([ 0.57995792,  0.57795695,  0.60214493]), 'C1': array([ 0.57079583,  0.57661419,  0.59603042]), 'CP3': array([ 0.56409458,  0.60273163,  0.5614441 ]), 'P6': array([ 0.54684552,  0.5844421 ,  0.56185589]), 'C6': array([ 0.55697793,  0.57347483,  0.56062762]), 'CP6': array([ 0.55172791,  0.59864958,  0.56956786]), 'C4': array([ 0.60496254,  0.59895753,  0.55431432])})"
       ]
      }
     ],
     "prompt_number": 138
    },
    {
     "cell_type": "code",
     "collapsed": false,
     "input": [
      "perm_probas = np.vstack([v[-1] for k, v in enumerate(train_probas.values())])"
     ],
     "language": "python",
     "metadata": {},
     "outputs": [],
     "prompt_number": 175
    },
    {
     "cell_type": "code",
     "collapsed": false,
     "input": [
      "perm_probas.shape"
     ],
     "language": "python",
     "metadata": {},
     "outputs": [
      {
       "metadata": {},
       "output_type": "pyout",
       "prompt_number": 176,
       "text": [
        "(20, 5440)"
       ]
      }
     ],
     "prompt_number": 176
    },
    {
     "cell_type": "code",
     "collapsed": false,
     "input": [
      "perm_probas = np.vstack([v[-1] for k, v in train_probas.items() if cv_scores[k].mean() > 0.55])\n",
      "sklearn.metrics.roc_auc_score(y_train, perm_probas[:, :].mean(0))"
     ],
     "language": "python",
     "metadata": {},
     "outputs": [
      {
       "metadata": {},
       "output_type": "pyout",
       "prompt_number": 161,
       "text": [
        "0.67042971493914882"
       ]
      }
     ],
     "prompt_number": 161
    },
    {
     "cell_type": "code",
     "collapsed": false,
     "input": [
      "y_train"
     ],
     "language": "python",
     "metadata": {},
     "outputs": []
    },
    {
     "cell_type": "code",
     "collapsed": false,
     "input": [
      "def scorer(classifier, x, y):\n",
      "    proba = classifier.predict_proba(x)\n",
      "    return sklearn.metrics.roc_auc_score(y, proba[:,1])"
     ],
     "language": "python",
     "metadata": {},
     "outputs": [],
     "prompt_number": 163
    },
    {
     "cell_type": "code",
     "collapsed": false,
     "input": [
      "predict_probas = np.vstack([v for k, v in enumerate(probas.values())])"
     ],
     "language": "python",
     "metadata": {},
     "outputs": [],
     "prompt_number": 172
    },
    {
     "cell_type": "code",
     "collapsed": false,
     "input": [
      "predict_probas.shape"
     ],
     "language": "python",
     "metadata": {},
     "outputs": [
      {
       "metadata": {},
       "output_type": "pyout",
       "prompt_number": 173,
       "text": [
        "(20, 3400)"
       ]
      }
     ],
     "prompt_number": 173
    },
    {
     "cell_type": "code",
     "collapsed": false,
     "input": [
      "np.array_equal(x_test, classifier.x_prev)"
     ],
     "language": "python",
     "metadata": {},
     "outputs": [
      {
       "metadata": {},
       "output_type": "pyout",
       "prompt_number": 190,
       "text": [
        "False"
       ]
      }
     ],
     "prompt_number": 190
    },
    {
     "cell_type": "code",
     "collapsed": false,
     "input": [
      "channel_dict = dict(channel_windows)"
     ],
     "language": "python",
     "metadata": {},
     "outputs": [],
     "prompt_number": 196
    },
    {
     "cell_type": "code",
     "collapsed": false,
     "input": [
      "predict_probas = []\n",
      "for ch, classifier in classifiers.items():\n",
      "    x_test, _, _, _ = get_data(test_map, splitter, channel=ch, time_window=channel_dict[ch])\n",
      "    label, proba = classifier.predict(x_test, n_neighbors=100)\n",
      "    predict_probas.append(proba)"
     ],
     "language": "python",
     "metadata": {},
     "outputs": []
    },
    {
     "cell_type": "code",
     "collapsed": false,
     "input": [
      "svc = svm.SVC(kernel='linear', probability=True)\n",
      "svc.fit(perm_probas.T, np.array(y_train))\n",
      "predict_result = svc.predict_proba(np.vstack(predict_probas).T)[:,1]"
     ],
     "language": "python",
     "metadata": {},
     "outputs": []
    },
    {
     "cell_type": "code",
     "collapsed": false,
     "input": [
      "np.abs(svc.coef_).argsort()"
     ],
     "language": "python",
     "metadata": {},
     "outputs": [
      {
       "metadata": {},
       "output_type": "pyout",
       "prompt_number": 209,
       "text": [
        "array([[13, 17, 14,  9, 18,  3,  8,  1,  4, 19, 15, 16, 10, 12, 11,  5,  7,\n",
        "         2,  6,  0]])"
       ]
      }
     ],
     "prompt_number": 209
    },
    {
     "cell_type": "code",
     "collapsed": false,
     "input": [
      "svc = svm.SVC(kernel='linear', probability=True)\n",
      "cross_val_score(svc, np.vstack(perm_probas).T, np.array(y_train), scoring=scorer, cv=2, n_jobs=1)"
     ],
     "language": "python",
     "metadata": {},
     "outputs": [
      {
       "metadata": {},
       "output_type": "pyout",
       "prompt_number": 165,
       "text": [
        "array([ 0.66787389,  0.63061243])"
       ]
      }
     ],
     "prompt_number": 165
    },
    {
     "cell_type": "code",
     "collapsed": false,
     "input": [
      "perm_probas = np.vstack([v[-1] for k, v in enumerate(train_probas.values()),])\n",
      "perm_scores = {}\n",
      "perms = set(tuple(sorted(perm)) for perm in permutations(range(10,20), 10))\n",
      "for perm in perms:\n",
      "    perm_scores[perm] = sklearn.metrics.roc_auc_score(y_train, perm_probas[:, :].mean(0))\n",
      "avg_probs = np.array(probas)[list(sorted(perm_scores.items(), key=lambda x: x[1])[-1][0]),:].mean(0)"
     ],
     "language": "python",
     "metadata": {},
     "outputs": [
      {
       "ename": "IndexError",
       "evalue": "too many indices for array",
       "output_type": "pyerr",
       "traceback": [
        "\u001b[1;31m---------------------------------------------------------------------------\u001b[0m\n\u001b[1;31mIndexError\u001b[0m                                Traceback (most recent call last)",
        "\u001b[1;32m<ipython-input-132-61239ed596c5>\u001b[0m in \u001b[0;36m<module>\u001b[1;34m()\u001b[0m\n\u001b[0;32m      4\u001b[0m \u001b[1;32mfor\u001b[0m \u001b[0mperm\u001b[0m \u001b[1;32min\u001b[0m \u001b[0mperms\u001b[0m\u001b[1;33m:\u001b[0m\u001b[1;33m\u001b[0m\u001b[0m\n\u001b[0;32m      5\u001b[0m     \u001b[0mperm_scores\u001b[0m\u001b[1;33m[\u001b[0m\u001b[0mperm\u001b[0m\u001b[1;33m]\u001b[0m \u001b[1;33m=\u001b[0m \u001b[0msklearn\u001b[0m\u001b[1;33m.\u001b[0m\u001b[0mmetrics\u001b[0m\u001b[1;33m.\u001b[0m\u001b[0mroc_auc_score\u001b[0m\u001b[1;33m(\u001b[0m\u001b[0my_train\u001b[0m\u001b[1;33m,\u001b[0m \u001b[0mperm_probas\u001b[0m\u001b[1;33m[\u001b[0m\u001b[1;33m:\u001b[0m\u001b[1;33m,\u001b[0m \u001b[1;33m:\u001b[0m\u001b[1;33m]\u001b[0m\u001b[1;33m.\u001b[0m\u001b[0mmean\u001b[0m\u001b[1;33m(\u001b[0m\u001b[1;36m0\u001b[0m\u001b[1;33m)\u001b[0m\u001b[1;33m)\u001b[0m\u001b[1;33m\u001b[0m\u001b[0m\n\u001b[1;32m----> 6\u001b[1;33m \u001b[0mavg_probs\u001b[0m \u001b[1;33m=\u001b[0m \u001b[0mnp\u001b[0m\u001b[1;33m.\u001b[0m\u001b[0marray\u001b[0m\u001b[1;33m(\u001b[0m\u001b[0mprobas\u001b[0m\u001b[1;33m)\u001b[0m\u001b[1;33m[\u001b[0m\u001b[0mlist\u001b[0m\u001b[1;33m(\u001b[0m\u001b[0msorted\u001b[0m\u001b[1;33m(\u001b[0m\u001b[0mperm_scores\u001b[0m\u001b[1;33m.\u001b[0m\u001b[0mitems\u001b[0m\u001b[1;33m(\u001b[0m\u001b[1;33m)\u001b[0m\u001b[1;33m,\u001b[0m \u001b[0mkey\u001b[0m\u001b[1;33m=\u001b[0m\u001b[1;32mlambda\u001b[0m \u001b[0mx\u001b[0m\u001b[1;33m:\u001b[0m \u001b[0mx\u001b[0m\u001b[1;33m[\u001b[0m\u001b[1;36m1\u001b[0m\u001b[1;33m]\u001b[0m\u001b[1;33m)\u001b[0m\u001b[1;33m[\u001b[0m\u001b[1;33m-\u001b[0m\u001b[1;36m1\u001b[0m\u001b[1;33m]\u001b[0m\u001b[1;33m[\u001b[0m\u001b[1;36m0\u001b[0m\u001b[1;33m]\u001b[0m\u001b[1;33m)\u001b[0m\u001b[1;33m,\u001b[0m\u001b[1;33m:\u001b[0m\u001b[1;33m]\u001b[0m\u001b[1;33m.\u001b[0m\u001b[0mmean\u001b[0m\u001b[1;33m(\u001b[0m\u001b[1;36m0\u001b[0m\u001b[1;33m)\u001b[0m\u001b[1;33m\u001b[0m\u001b[0m\n\u001b[0m",
        "\u001b[1;31mIndexError\u001b[0m: too many indices for array"
       ]
      }
     ],
     "prompt_number": 132
    },
    {
     "cell_type": "markdown",
     "metadata": {},
     "source": [
      "## Experimenting with weighting the predictions"
     ]
    },
    {
     "cell_type": "code",
     "collapsed": false,
     "input": [
      "weight_perms = [(a, b, c, d, e, f) for a, b, c, d, e,f in product(weights, weights, weights, weights, weights, weights) if a+b+c+d+e+f == 1.0]\n",
      "weights=np.linspace(0,1,21)\n",
      "weight_scores = {}\n",
      "perm = range(5)\n",
      "for a, b, c, d, e, f in weight_perms:\n",
      "    weighted = []\n",
      "    weighted.append(perm_probas[0, :] * a)\n",
      "    weighted.append(perm_probas[1, :] * b)\n",
      "    weighted.append(perm_probas[2, :] * c)\n",
      "    weighted.append(perm_probas[3, :] * d)\n",
      "    weighted.append(perm_probas[4, :] * e)\n",
      "    weighted.append(perm_probas[5, :] * f)\n",
      "    weight_scores[(a, b, c, d, e, f)] = sklearn.metrics.roc_auc_score(y_train, np.vstack(weighted).mean(0))\n",
      "weights = sorted(weight_scores.items(), key=lambda x: x[1])[-1:][0][0]"
     ],
     "language": "python",
     "metadata": {},
     "outputs": [],
     "prompt_number": 248
    },
    {
     "cell_type": "code",
     "collapsed": false,
     "input": [
      "weighted_result=[]\n",
      "weight_probas = np.vstack(probas)\n",
      "for ch, weight in zip(perm, weights):\n",
      "    weighted_result.append(weight_probas[ch, :] * weight)\n",
      "weighted_probs = np.vstack(weighted_result).sum(0)    "
     ],
     "language": "python",
     "metadata": {},
     "outputs": [],
     "prompt_number": 250
    },
    {
     "cell_type": "code",
     "collapsed": false,
     "input": [
      "avg_probs = np.array(probas).mean(0)"
     ],
     "language": "python",
     "metadata": {},
     "outputs": [],
     "prompt_number": 33
    },
    {
     "cell_type": "code",
     "collapsed": false,
     "input": [],
     "language": "python",
     "metadata": {},
     "outputs": []
    },
    {
     "cell_type": "code",
     "collapsed": false,
     "input": [
      "import pandas\n",
      "submission_df = pandas.read_csv('./SampleSubmission.csv')\n",
      "submission_df.Prediction = predict_result\n",
      "submission_df.to_csv('Prediction8.csv', index=False)"
     ],
     "language": "python",
     "metadata": {},
     "outputs": []
    },
    {
     "cell_type": "code",
     "collapsed": false,
     "input": [
      "submission_df"
     ],
     "language": "python",
     "metadata": {},
     "outputs": [
      {
       "html": [
        "<div style=\"max-height:1000px;max-width:1500px;overflow:auto;\">\n",
        "<table border=\"1\" class=\"dataframe\">\n",
        "  <thead>\n",
        "    <tr style=\"text-align: right;\">\n",
        "      <th></th>\n",
        "      <th>IdFeedBack</th>\n",
        "      <th>Prediction</th>\n",
        "    </tr>\n",
        "  </thead>\n",
        "  <tbody>\n",
        "    <tr>\n",
        "      <th>0   </th>\n",
        "      <td> S01_Sess01_FB001</td>\n",
        "      <td> 0.664</td>\n",
        "    </tr>\n",
        "    <tr>\n",
        "      <th>1   </th>\n",
        "      <td> S01_Sess01_FB002</td>\n",
        "      <td> 0.655</td>\n",
        "    </tr>\n",
        "    <tr>\n",
        "      <th>2   </th>\n",
        "      <td> S01_Sess01_FB003</td>\n",
        "      <td> 0.643</td>\n",
        "    </tr>\n",
        "    <tr>\n",
        "      <th>3   </th>\n",
        "      <td> S01_Sess01_FB004</td>\n",
        "      <td> 0.676</td>\n",
        "    </tr>\n",
        "    <tr>\n",
        "      <th>4   </th>\n",
        "      <td> S01_Sess01_FB005</td>\n",
        "      <td> 0.673</td>\n",
        "    </tr>\n",
        "    <tr>\n",
        "      <th>5   </th>\n",
        "      <td> S01_Sess01_FB006</td>\n",
        "      <td> 0.628</td>\n",
        "    </tr>\n",
        "    <tr>\n",
        "      <th>6   </th>\n",
        "      <td> S01_Sess01_FB007</td>\n",
        "      <td> 0.664</td>\n",
        "    </tr>\n",
        "    <tr>\n",
        "      <th>7   </th>\n",
        "      <td> S01_Sess01_FB008</td>\n",
        "      <td> 0.661</td>\n",
        "    </tr>\n",
        "    <tr>\n",
        "      <th>8   </th>\n",
        "      <td> S01_Sess01_FB009</td>\n",
        "      <td> 0.661</td>\n",
        "    </tr>\n",
        "    <tr>\n",
        "      <th>9   </th>\n",
        "      <td> S01_Sess01_FB010</td>\n",
        "      <td> 0.606</td>\n",
        "    </tr>\n",
        "    <tr>\n",
        "      <th>10  </th>\n",
        "      <td> S01_Sess01_FB011</td>\n",
        "      <td> 0.659</td>\n",
        "    </tr>\n",
        "    <tr>\n",
        "      <th>11  </th>\n",
        "      <td> S01_Sess01_FB012</td>\n",
        "      <td> 0.627</td>\n",
        "    </tr>\n",
        "    <tr>\n",
        "      <th>12  </th>\n",
        "      <td> S01_Sess01_FB013</td>\n",
        "      <td> 0.607</td>\n",
        "    </tr>\n",
        "    <tr>\n",
        "      <th>13  </th>\n",
        "      <td> S01_Sess01_FB014</td>\n",
        "      <td> 0.608</td>\n",
        "    </tr>\n",
        "    <tr>\n",
        "      <th>14  </th>\n",
        "      <td> S01_Sess01_FB015</td>\n",
        "      <td> 0.660</td>\n",
        "    </tr>\n",
        "    <tr>\n",
        "      <th>15  </th>\n",
        "      <td> S01_Sess01_FB016</td>\n",
        "      <td> 0.652</td>\n",
        "    </tr>\n",
        "    <tr>\n",
        "      <th>16  </th>\n",
        "      <td> S01_Sess01_FB017</td>\n",
        "      <td> 0.644</td>\n",
        "    </tr>\n",
        "    <tr>\n",
        "      <th>17  </th>\n",
        "      <td> S01_Sess01_FB018</td>\n",
        "      <td> 0.666</td>\n",
        "    </tr>\n",
        "    <tr>\n",
        "      <th>18  </th>\n",
        "      <td> S01_Sess01_FB019</td>\n",
        "      <td> 0.611</td>\n",
        "    </tr>\n",
        "    <tr>\n",
        "      <th>19  </th>\n",
        "      <td> S01_Sess01_FB020</td>\n",
        "      <td> 0.616</td>\n",
        "    </tr>\n",
        "    <tr>\n",
        "      <th>20  </th>\n",
        "      <td> S01_Sess01_FB021</td>\n",
        "      <td> 0.638</td>\n",
        "    </tr>\n",
        "    <tr>\n",
        "      <th>21  </th>\n",
        "      <td> S01_Sess01_FB022</td>\n",
        "      <td> 0.604</td>\n",
        "    </tr>\n",
        "    <tr>\n",
        "      <th>22  </th>\n",
        "      <td> S01_Sess01_FB023</td>\n",
        "      <td> 0.660</td>\n",
        "    </tr>\n",
        "    <tr>\n",
        "      <th>23  </th>\n",
        "      <td> S01_Sess01_FB024</td>\n",
        "      <td> 0.660</td>\n",
        "    </tr>\n",
        "    <tr>\n",
        "      <th>24  </th>\n",
        "      <td> S01_Sess01_FB025</td>\n",
        "      <td> 0.664</td>\n",
        "    </tr>\n",
        "    <tr>\n",
        "      <th>25  </th>\n",
        "      <td> S01_Sess01_FB026</td>\n",
        "      <td> 0.687</td>\n",
        "    </tr>\n",
        "    <tr>\n",
        "      <th>26  </th>\n",
        "      <td> S01_Sess01_FB027</td>\n",
        "      <td> 0.676</td>\n",
        "    </tr>\n",
        "    <tr>\n",
        "      <th>27  </th>\n",
        "      <td> S01_Sess01_FB028</td>\n",
        "      <td> 0.599</td>\n",
        "    </tr>\n",
        "    <tr>\n",
        "      <th>28  </th>\n",
        "      <td> S01_Sess01_FB029</td>\n",
        "      <td> 0.685</td>\n",
        "    </tr>\n",
        "    <tr>\n",
        "      <th>29  </th>\n",
        "      <td> S01_Sess01_FB030</td>\n",
        "      <td> 0.681</td>\n",
        "    </tr>\n",
        "    <tr>\n",
        "      <th>...</th>\n",
        "      <td>...</td>\n",
        "      <td>...</td>\n",
        "    </tr>\n",
        "    <tr>\n",
        "      <th>3370</th>\n",
        "      <td> S25_Sess05_FB071</td>\n",
        "      <td> 0.700</td>\n",
        "    </tr>\n",
        "    <tr>\n",
        "      <th>3371</th>\n",
        "      <td> S25_Sess05_FB072</td>\n",
        "      <td> 0.751</td>\n",
        "    </tr>\n",
        "    <tr>\n",
        "      <th>3372</th>\n",
        "      <td> S25_Sess05_FB073</td>\n",
        "      <td> 0.719</td>\n",
        "    </tr>\n",
        "    <tr>\n",
        "      <th>3373</th>\n",
        "      <td> S25_Sess05_FB074</td>\n",
        "      <td> 0.746</td>\n",
        "    </tr>\n",
        "    <tr>\n",
        "      <th>3374</th>\n",
        "      <td> S25_Sess05_FB075</td>\n",
        "      <td> 0.683</td>\n",
        "    </tr>\n",
        "    <tr>\n",
        "      <th>3375</th>\n",
        "      <td> S25_Sess05_FB076</td>\n",
        "      <td> 0.710</td>\n",
        "    </tr>\n",
        "    <tr>\n",
        "      <th>3376</th>\n",
        "      <td> S25_Sess05_FB077</td>\n",
        "      <td> 0.707</td>\n",
        "    </tr>\n",
        "    <tr>\n",
        "      <th>3377</th>\n",
        "      <td> S25_Sess05_FB078</td>\n",
        "      <td> 0.683</td>\n",
        "    </tr>\n",
        "    <tr>\n",
        "      <th>3378</th>\n",
        "      <td> S25_Sess05_FB079</td>\n",
        "      <td> 0.660</td>\n",
        "    </tr>\n",
        "    <tr>\n",
        "      <th>3379</th>\n",
        "      <td> S25_Sess05_FB080</td>\n",
        "      <td> 0.630</td>\n",
        "    </tr>\n",
        "    <tr>\n",
        "      <th>3380</th>\n",
        "      <td> S25_Sess05_FB081</td>\n",
        "      <td> 0.659</td>\n",
        "    </tr>\n",
        "    <tr>\n",
        "      <th>3381</th>\n",
        "      <td> S25_Sess05_FB082</td>\n",
        "      <td> 0.688</td>\n",
        "    </tr>\n",
        "    <tr>\n",
        "      <th>3382</th>\n",
        "      <td> S25_Sess05_FB083</td>\n",
        "      <td> 0.665</td>\n",
        "    </tr>\n",
        "    <tr>\n",
        "      <th>3383</th>\n",
        "      <td> S25_Sess05_FB084</td>\n",
        "      <td> 0.681</td>\n",
        "    </tr>\n",
        "    <tr>\n",
        "      <th>3384</th>\n",
        "      <td> S25_Sess05_FB085</td>\n",
        "      <td> 0.593</td>\n",
        "    </tr>\n",
        "    <tr>\n",
        "      <th>3385</th>\n",
        "      <td> S25_Sess05_FB086</td>\n",
        "      <td> 0.672</td>\n",
        "    </tr>\n",
        "    <tr>\n",
        "      <th>3386</th>\n",
        "      <td> S25_Sess05_FB087</td>\n",
        "      <td> 0.679</td>\n",
        "    </tr>\n",
        "    <tr>\n",
        "      <th>3387</th>\n",
        "      <td> S25_Sess05_FB088</td>\n",
        "      <td> 0.641</td>\n",
        "    </tr>\n",
        "    <tr>\n",
        "      <th>3388</th>\n",
        "      <td> S25_Sess05_FB089</td>\n",
        "      <td> 0.669</td>\n",
        "    </tr>\n",
        "    <tr>\n",
        "      <th>3389</th>\n",
        "      <td> S25_Sess05_FB090</td>\n",
        "      <td> 0.644</td>\n",
        "    </tr>\n",
        "    <tr>\n",
        "      <th>3390</th>\n",
        "      <td> S25_Sess05_FB091</td>\n",
        "      <td> 0.641</td>\n",
        "    </tr>\n",
        "    <tr>\n",
        "      <th>3391</th>\n",
        "      <td> S25_Sess05_FB092</td>\n",
        "      <td> 0.658</td>\n",
        "    </tr>\n",
        "    <tr>\n",
        "      <th>3392</th>\n",
        "      <td> S25_Sess05_FB093</td>\n",
        "      <td> 0.596</td>\n",
        "    </tr>\n",
        "    <tr>\n",
        "      <th>3393</th>\n",
        "      <td> S25_Sess05_FB094</td>\n",
        "      <td> 0.645</td>\n",
        "    </tr>\n",
        "    <tr>\n",
        "      <th>3394</th>\n",
        "      <td> S25_Sess05_FB095</td>\n",
        "      <td> 0.721</td>\n",
        "    </tr>\n",
        "    <tr>\n",
        "      <th>3395</th>\n",
        "      <td> S25_Sess05_FB096</td>\n",
        "      <td> 0.728</td>\n",
        "    </tr>\n",
        "    <tr>\n",
        "      <th>3396</th>\n",
        "      <td> S25_Sess05_FB097</td>\n",
        "      <td> 0.669</td>\n",
        "    </tr>\n",
        "    <tr>\n",
        "      <th>3397</th>\n",
        "      <td> S25_Sess05_FB098</td>\n",
        "      <td> 0.640</td>\n",
        "    </tr>\n",
        "    <tr>\n",
        "      <th>3398</th>\n",
        "      <td> S25_Sess05_FB099</td>\n",
        "      <td> 0.753</td>\n",
        "    </tr>\n",
        "    <tr>\n",
        "      <th>3399</th>\n",
        "      <td> S25_Sess05_FB100</td>\n",
        "      <td> 0.633</td>\n",
        "    </tr>\n",
        "  </tbody>\n",
        "</table>\n",
        "<p>3400 rows \u00d7 2 columns</p>\n",
        "</div>"
       ],
       "metadata": {},
       "output_type": "pyout",
       "prompt_number": 253,
       "text": [
        "            IdFeedBack  Prediction\n",
        "0     S01_Sess01_FB001       0.664\n",
        "1     S01_Sess01_FB002       0.655\n",
        "2     S01_Sess01_FB003       0.643\n",
        "3     S01_Sess01_FB004       0.676\n",
        "4     S01_Sess01_FB005       0.673\n",
        "5     S01_Sess01_FB006       0.628\n",
        "6     S01_Sess01_FB007       0.664\n",
        "7     S01_Sess01_FB008       0.661\n",
        "8     S01_Sess01_FB009       0.661\n",
        "9     S01_Sess01_FB010       0.606\n",
        "10    S01_Sess01_FB011       0.659\n",
        "11    S01_Sess01_FB012       0.627\n",
        "12    S01_Sess01_FB013       0.607\n",
        "13    S01_Sess01_FB014       0.608\n",
        "14    S01_Sess01_FB015       0.660\n",
        "15    S01_Sess01_FB016       0.652\n",
        "16    S01_Sess01_FB017       0.644\n",
        "17    S01_Sess01_FB018       0.666\n",
        "18    S01_Sess01_FB019       0.611\n",
        "19    S01_Sess01_FB020       0.616\n",
        "20    S01_Sess01_FB021       0.638\n",
        "21    S01_Sess01_FB022       0.604\n",
        "22    S01_Sess01_FB023       0.660\n",
        "23    S01_Sess01_FB024       0.660\n",
        "24    S01_Sess01_FB025       0.664\n",
        "25    S01_Sess01_FB026       0.687\n",
        "26    S01_Sess01_FB027       0.676\n",
        "27    S01_Sess01_FB028       0.599\n",
        "28    S01_Sess01_FB029       0.685\n",
        "29    S01_Sess01_FB030       0.681\n",
        "...                ...         ...\n",
        "3370  S25_Sess05_FB071       0.700\n",
        "3371  S25_Sess05_FB072       0.751\n",
        "3372  S25_Sess05_FB073       0.719\n",
        "3373  S25_Sess05_FB074       0.746\n",
        "3374  S25_Sess05_FB075       0.683\n",
        "3375  S25_Sess05_FB076       0.710\n",
        "3376  S25_Sess05_FB077       0.707\n",
        "3377  S25_Sess05_FB078       0.683\n",
        "3378  S25_Sess05_FB079       0.660\n",
        "3379  S25_Sess05_FB080       0.630\n",
        "3380  S25_Sess05_FB081       0.659\n",
        "3381  S25_Sess05_FB082       0.688\n",
        "3382  S25_Sess05_FB083       0.665\n",
        "3383  S25_Sess05_FB084       0.681\n",
        "3384  S25_Sess05_FB085       0.593\n",
        "3385  S25_Sess05_FB086       0.672\n",
        "3386  S25_Sess05_FB087       0.679\n",
        "3387  S25_Sess05_FB088       0.641\n",
        "3388  S25_Sess05_FB089       0.669\n",
        "3389  S25_Sess05_FB090       0.644\n",
        "3390  S25_Sess05_FB091       0.641\n",
        "3391  S25_Sess05_FB092       0.658\n",
        "3392  S25_Sess05_FB093       0.596\n",
        "3393  S25_Sess05_FB094       0.645\n",
        "3394  S25_Sess05_FB095       0.721\n",
        "3395  S25_Sess05_FB096       0.728\n",
        "3396  S25_Sess05_FB097       0.669\n",
        "3397  S25_Sess05_FB098       0.640\n",
        "3398  S25_Sess05_FB099       0.753\n",
        "3399  S25_Sess05_FB100       0.633\n",
        "\n",
        "[3400 rows x 2 columns]"
       ]
      }
     ],
     "prompt_number": 253
    },
    {
     "cell_type": "markdown",
     "metadata": {},
     "source": [
      "## Run selected channels and time windows on test data"
     ]
    },
    {
     "cell_type": "code",
     "collapsed": false,
     "input": [
      "test=0.3\n",
      "scores = {}\n",
      "probas = []\n",
      "labels = []\n",
      "classifiers = []\n",
      "splitter = np.random.choice([0, 1], size=(len(event_map)), p=[test, 1-test])\n",
      "for channel, (start, stop) in channel_windows:\n",
      "    x_train, y_train, x_test, y_test = get_data(event_map, splitter, channel=channel, time_window=(start, stop))\n",
      "    classifier = KnnDtw(x_train, y_train)\n",
      "    label, proba = classifier.predict(x_test, n_neighbors=50)\n",
      "    classifiers.append(classifier)\n",
      "    probas.append(proba)\n",
      "    labels.append(label)\n",
      "    scores[channel] = sklearn.metrics.roc_auc_score(y_test, proba)\n",
      "print \"ROC AUC score from taking the mean of all channels:\", sklearn.metrics.roc_auc_score(y_test,np.vstack(probas).mean(0))"
     ],
     "language": "python",
     "metadata": {},
     "outputs": [
      {
       "output_type": "stream",
       "stream": "stdout",
       "text": [
        "\r",
        "Progress:\n",
        "[######################################################################] 100.0%"
       ]
      },
      {
       "output_type": "stream",
       "stream": "stdout",
       "text": [
        "(1631, 50)\n"
       ]
      }
     ],
     "prompt_number": 54
    },
    {
     "cell_type": "code",
     "collapsed": false,
     "input": [
      "perm_scores = {}\n",
      "perm_probas = np.vstack(probas)\n",
      "perms = set(tuple(sorted(perm)) for perm in permutations(range(10), 4))\n",
      "for perm in perms:\n",
      "    channels = tuple([channel_names[pe] for pe in perm])\n",
      "    perm_scores[channels] = sklearn.metrics.roc_auc_score(y_test, perm_probas[perm, :].mean(0))"
     ],
     "language": "python",
     "metadata": {},
     "outputs": []
    },
    {
     "cell_type": "code",
     "collapsed": false,
     "input": [
      "from sklearn.metrics import classification_report, confusion_matrix\n",
      "\n",
      "labels={0:'Correct', 1:'Incorrect'}\n",
      "\n",
      "print classification_report(label, y_test,\n",
      "                            target_names=[l for l in labels.values()])\n",
      "\n",
      "\n",
      "\n",
      "conf_mat = confusion_matrix(label, y_test)\n",
      "\n",
      "fig = plt.figure(figsize=(6,6))\n",
      "width = np.shape(conf_mat)[1]\n",
      "height = np.shape(conf_mat)[0]\n",
      "\n",
      "\n",
      "\n",
      "res = plt.imshow(np.array(conf_mat), cmap=plt.cm.summer, interpolation='nearest')\n",
      "for i, row in enumerate(conf_mat):\n",
      "    for j, c in enumerate(row):\n",
      "        if c>0:\n",
      "            plt.text(j-.2, i+.1, c, fontsize=16)\n",
      "            \n",
      "cb = fig.colorbar(res)\n",
      "plt.title('Confusion Matrix')\n",
      "_ = plt.xticks(range(6), [l for l in labels.values()], rotation=90)\n",
      "_ = plt.yticks(range(6), [l for l in labels.values()])"
     ],
     "language": "python",
     "metadata": {},
     "outputs": [
      {
       "output_type": "stream",
       "stream": "stdout",
       "text": [
        "             precision    recall  f1-score   support\n",
        "\n",
        "    Correct       0.02      0.58      0.04        19\n",
        "  Incorrect       0.99      0.70      0.82      1599\n",
        "\n",
        "avg / total       0.98      0.70      0.81      1618\n",
        "\n"
       ]
      },
      {
       "metadata": {},
       "output_type": "display_data",
       "png": "[encoded data removed]",
       "text": [
        "<matplotlib.figure.Figure at 0x7f635b99fa90>"
       ]
      }
     ],
     "prompt_number": 32
    }
   ],
   "metadata": {}
  }
 ]
}